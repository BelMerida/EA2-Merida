{
  "nbformat": 4,
  "nbformat_minor": 0,
  "metadata": {
    "colab": {
      "name": "Ejercicio2-Secuencial.ipynb",
      "provenance": []
    },
    "kernelspec": {
      "name": "python3",
      "display_name": "Python 3"
    }
  },
  "cells": [
    {
      "cell_type": "markdown",
      "metadata": {
        "id": "Loe-eY-Pz4as"
      },
      "source": [
        "#**1 Introduccion**"
      ]
    },
    {
      "cell_type": "markdown",
      "metadata": {
        "id": "_8IMDkHysDZP"
      },
      "source": [
        "En el siguiente cuaderno se realizara el producto entre dos matrices cuadradas, el resultado del producto es una nueva matriz. Es decir:\n",
        "\n",
        "<center>$\\ MR= A x B =A (a(11)...a(1n)) *B(b(11)...b(1n)) = (a(11)b(11)+ ... +a(1n)b(1n))$</center>\n",
        "\n",
        "Si bien el producto entre matrices tienen la propiedad de que el número de columnas de la matriz A tiene que ser igual al número de filas de la matriz B, en este ejercicio se opto por realizar el producto solo para matrices cuadradas.\n"
      ]
    },
    {
      "cell_type": "markdown",
      "metadata": {
        "id": "Z5sM9bpIz9Wx"
      },
      "source": [
        "#**2 Armando el ambiente**\n",
        "\n",
        "No son necesarios, ejecuciones previas del armado del ambiente"
      ]
    },
    {
      "cell_type": "markdown",
      "metadata": {
        "id": "8oIV-j-30BwB"
      },
      "source": [
        "#**3 Desarrollo**"
      ]
    },
    {
      "cell_type": "code",
      "metadata": {
        "colab": {
          "base_uri": "https://localhost:8080/"
        },
        "id": "c3YsWxku0G8F",
        "outputId": "5da0ee3a-bece-45a9-9340-1b59ee122b67"
      },
      "source": [
        "# -----------------------------------------------------------\n",
        "#@title 3.1 Parámetros de ejecución { vertical-output: true }\n",
        "\n",
        "f= 3#@param {type: \"number\"}\n",
        "c= 3#@param {type: \"number\"}\n",
        "\n",
        "# ------------------------------------------------------------\n",
        "\n",
        "import numpy\n",
        "\n",
        "# CPU - Defino la memoria de la matriz en cpu.\n",
        "matriz1 = numpy.random.random((f,c)) *10\n",
        "matriz1= matriz1.astype(numpy.int32())\n",
        "\n",
        "matriz2 = numpy.random.random((f,c)) *10\n",
        "matriz2 = matriz2.astype(numpy.int32())\n",
        "\n",
        "matriz_r = numpy.zeros(shape=(f,c))\n",
        "matriz_r = matriz_r.astype(numpy.int32())\n",
        "\n",
        "for i in range(0,c):\n",
        "  for j in range(0,f):\n",
        "    for k in range(0,c):\n",
        "      matriz_r[i][j] += matriz1[i][k] * matriz2[k][j]\n",
        "\n",
        "print(\"Primer matriz\")\n",
        "print(matriz1)\n",
        "print(\"Segunda Matriz\")\n",
        "print(matriz2)\n",
        "print(\"Matriz Resultado\")\n",
        "print(matriz_r)"
      ],
      "execution_count": null,
      "outputs": [
        {
          "output_type": "stream",
          "text": [
            "Primer matriz\n",
            "[[4 5 7]\n",
            " [3 8 0]\n",
            " [2 3 9]]\n",
            "Segunda Matriz\n",
            "[[9 0 9]\n",
            " [0 7 9]\n",
            " [8 0 2]]\n",
            "Matriz Resultado\n",
            "[[92 35 95]\n",
            " [27 56 99]\n",
            " [90 21 63]]\n"
          ],
          "name": "stdout"
        }
      ]
    },
    {
      "cell_type": "markdown",
      "metadata": {
        "id": "Q5JVwgyquoSO"
      },
      "source": [
        "#**4 Tabla de Pasos**\n",
        "Procesador | Funciòn | Detalle\n",
        "------------|---------|----------\n",
        "CPU      |  @param                | Lectura del tamaño de las matrices en Colab.\n",
        "CPU      |  import                | Importa los módulos para funcionar.\n",
        "CPU      |  numpy.random.randn( (f,c) ) | Inicializa los Matrices.\n",
        "CPU | for... | realizo el producto entre las matrices guardando el resultado en Matriz_r\n",
        "CPU      |  print()               | Informo los resultados."
      ]
    },
    {
      "cell_type": "markdown",
      "metadata": {
        "id": "h5h2y2gUvL00"
      },
      "source": [
        "#**5 Conclusion**\n",
        "\n",
        "Se puede observar en el codigo que el producto entre matrices en el CPU se realiza con ciclos anidados, dichas multiplicaciones y sumas están en una complejidad computacional[1] de O(N^3)."
      ]
    },
    {
      "cell_type": "markdown",
      "metadata": {
        "id": "be1ivil7vQL1"
      },
      "source": [
        "#**6 Bibliografia**\n",
        "\n",
        "[1] Complejidad Computacional:[PDF](https://www.frlp.utn.edu.ar/materias/algoritmos/GUIACOMPLEJIDADDEALGORITMOS.pdf)"
      ]
    }
  ]
}