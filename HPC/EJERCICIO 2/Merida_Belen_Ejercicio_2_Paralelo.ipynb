{
  "nbformat": 4,
  "nbformat_minor": 0,
  "metadata": {
    "colab": {
      "name": "Ejercicio2-Paralelo.ipynb",
      "provenance": []
    },
    "kernelspec": {
      "name": "python3",
      "display_name": "Python 3"
    },
    "accelerator": "GPU"
  },
  "cells": [
    {
      "cell_type": "markdown",
      "metadata": {
        "id": "-kG16snmtpSz"
      },
      "source": [
        "#**1 Introduccion**"
      ]
    },
    {
      "cell_type": "markdown",
      "metadata": {
        "id": "WF3m0NalNeEn"
      },
      "source": [
        "En el siguiente cuaderno se realizara el producto entre dos matrices cuadradas[1], donde el resultado del producto es una nueva matriz. Es decir:\n",
        "\n",
        "![producto.png](data:image/png;base64,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)\n",
        "\n",
        "Si bien el producto entre matrices tienen la propiedad de que el número de columnas de la matriz A tiene que ser igual al número de filas de la matriz B, en este ejercicio se opto por realizar el producto solo para matrices cuadradas.\n",
        "\n",
        "En cuanto a la descripcion de la paralelizacion[2]:\n",
        "\n",
        "Como se ha definido cada bloque de forma bidimensional, se calculan índices de columnas y filas (después se convertirán a un índice lineal para hacer las operaciones).\n",
        "Se lanzan threads, que en cada uno de ellos se generará el cálculo de su correspondiente elemento en la matriz resultante. Para poder generar éste resultado, es necesario hacer un ciclo hasta \"n\" para hacer la sumatoria de las multiplicaciones necesarias. Para que la asignacion de la sumatoria en la matriz resultante sea correcta se sincronizan los hilos con __syncthreads() [3].\n"
      ]
    },
    {
      "cell_type": "markdown",
      "metadata": {
        "id": "2gA17EWGt7YT"
      },
      "source": [
        "#**2 Armando el ambiente**"
      ]
    },
    {
      "cell_type": "markdown",
      "metadata": {
        "id": "0ODYDyEMNTdx"
      },
      "source": [
        "Instala en el cuaderno el modulo de CUDA de python"
      ]
    },
    {
      "cell_type": "code",
      "metadata": {
        "colab": {
          "base_uri": "https://localhost:8080/"
        },
        "id": "OtvPPSVKBG2c",
        "outputId": "90f117cc-cf20-4c31-f5d2-48d516270705"
      },
      "source": [
        "!pip install pycuda"
      ],
      "execution_count": null,
      "outputs": [
        {
          "output_type": "stream",
          "text": [
            "Requirement already satisfied: pycuda in /usr/local/lib/python3.6/dist-packages (2020.1)\n",
            "Requirement already satisfied: pytools>=2011.2 in /usr/local/lib/python3.6/dist-packages (from pycuda) (2020.4.3)\n",
            "Requirement already satisfied: mako in /usr/local/lib/python3.6/dist-packages (from pycuda) (1.1.3)\n",
            "Requirement already satisfied: appdirs>=1.4.0 in /usr/local/lib/python3.6/dist-packages (from pycuda) (1.4.4)\n",
            "Requirement already satisfied: decorator>=3.2.0 in /usr/local/lib/python3.6/dist-packages (from pycuda) (4.4.2)\n",
            "Requirement already satisfied: numpy>=1.6.0 in /usr/local/lib/python3.6/dist-packages (from pytools>=2011.2->pycuda) (1.18.5)\n",
            "Requirement already satisfied: six>=1.8.0 in /usr/local/lib/python3.6/dist-packages (from pytools>=2011.2->pycuda) (1.15.0)\n",
            "Requirement already satisfied: dataclasses>=0.7; python_version <= \"3.6\" in /usr/local/lib/python3.6/dist-packages (from pytools>=2011.2->pycuda) (0.7)\n",
            "Requirement already satisfied: MarkupSafe>=0.9.2 in /usr/local/lib/python3.6/dist-packages (from mako->pycuda) (1.1.1)\n"
          ],
          "name": "stdout"
        }
      ]
    },
    {
      "cell_type": "markdown",
      "metadata": {
        "id": "FPLReEs4uH55"
      },
      "source": [
        "\n",
        "#**3 Desarrollo**"
      ]
    },
    {
      "cell_type": "code",
      "metadata": {
        "colab": {
          "base_uri": "https://localhost:8080/"
        },
        "id": "EVfLwJl7uLcM",
        "outputId": "bd2a46be-4f67-4abf-bc43-0718b5a064db"
      },
      "source": [
        "# ------------------------------------------------------------\n",
        "#@title 3.1 Parámetros de ejecución { vertical-output: true }\n",
        "\n",
        "f =   3#@param {type: \"number\"}\n",
        "c =   3#@param {type: \"number\"}\n",
        "\n",
        "# ------------------------------------------------------------\n",
        "\n",
        "import pycuda.driver as cuda\n",
        "import pycuda.autoinit\n",
        "from   pycuda.compiler import SourceModule\n",
        "\n",
        "import numpy\n",
        "import copy\n",
        "\n",
        "try:\n",
        "  matriz_cpu = numpy.random.random((f,c)) *10\n",
        "  matriz_cpu = matriz_cpu.astype(numpy.int32())\n",
        "\n",
        "  matriz1 = numpy.random.random((f,c)) *10\n",
        "  matriz1 = matriz1.astype(numpy.int32())\n",
        "\n",
        "  matriz_r = numpy.random.random((f,c)) *10\n",
        "  matriz_r = matriz_r.astype(numpy.int32())\n",
        "\n",
        "  matriz_gpu = cuda.mem_alloc(matriz_cpu.nbytes)\n",
        "  matriz1_gpu = cuda.mem_alloc(matriz1.nbytes)\n",
        "  matrizr_gpu = cuda.mem_alloc(matriz_r.nbytes)\n",
        "\n",
        "  cuda.memcpy_htod(matriz_gpu,matriz_cpu)\n",
        "  cuda.memcpy_htod(matriz1_gpu,matriz1)\n",
        "  cuda.memcpy_htod(matrizr_gpu,matriz_r)\n",
        "\n",
        "\n",
        "  #CPU - Defino la funcion kernel que ejecutará en GPU\n",
        "  module = SourceModule(\"\"\"\n",
        "  __global__ void productoMatrices(int n, int *M1, int *M2, int *MR)\n",
        "  {\n",
        "      int col = threadIdx.x + blockIdx.x*blockDim.x;\n",
        "      int fila = threadIdx.y + blockIdx.y*blockDim.y;\n",
        "      float suma=0;\n",
        "\n",
        "      if(col<n && fila<n)\n",
        "      {\n",
        "        for(int k=0; k<n;k++){\n",
        "        float a = M1[col*n+k];\n",
        "        float b = M2[k*n+fila];\n",
        "        suma+= a*b;\n",
        "        }\n",
        "      __syncthreads();\n",
        "      MR[col*n+fila] = suma;\n",
        "      }\n",
        "  }\n",
        "\n",
        "  \"\"\")\n",
        "\n",
        "  kernel = module.get_function(\"productoMatrices\")\n",
        "\n",
        "  dim_hilo_x = 16\n",
        "  dim_bloque_x = numpy.int( (f+dim_hilo_x-1) / dim_hilo_x )\n",
        "\n",
        "  dim_hilo_y = 16\n",
        "  dim_bloque_y = numpy.int( (c+dim_hilo_y-1) / dim_hilo_y )\n",
        "\n",
        "  print( \"Thread x: \", dim_hilo_x, \", Bloque x:\", dim_bloque_x )\n",
        "  print( \"Thread y: \", dim_hilo_y, \", Bloque y:\", dim_bloque_y )\n",
        "\n",
        "  kernel( numpy.int32(f), matriz_gpu, matriz1_gpu, matrizr_gpu, block=( dim_hilo_x, dim_hilo_y, 1 ),grid=(dim_bloque_x, dim_bloque_y,1) )\n",
        "  cuda.memcpy_dtoh(matriz_r,matrizr_gpu)\n",
        "\n",
        "  print(\"Matriz 1: \")\n",
        "  print(matriz_cpu)\n",
        "  print(\"Matriz 2:\")\n",
        "  print(matriz1)\n",
        "  print(\"Resultado de la suma de matrices\")\n",
        "  print(matriz_r)\n",
        "\n",
        "except:\n",
        "  print(\"Error en los indices, debe ingresar valores positivos\")\n",
        "  exit()"
      ],
      "execution_count": null,
      "outputs": [
        {
          "output_type": "stream",
          "text": [
            "Thread x:  16 , Bloque x: 1\n",
            "Thread y:  16 , Bloque y: 1\n",
            "Matriz 1: \n",
            "[[7 7 6]\n",
            " [5 5 9]\n",
            " [5 4 7]]\n",
            "Matriz 2:\n",
            "[[2 1 2]\n",
            " [7 0 3]\n",
            " [4 6 8]]\n",
            "Resultado de la suma de matrices\n",
            "[[87 43 83]\n",
            " [81 59 97]\n",
            " [66 47 78]]\n"
          ],
          "name": "stdout"
        }
      ]
    },
    {
      "cell_type": "markdown",
      "metadata": {
        "id": "NZmIaeOWuMe6"
      },
      "source": [
        "#**4 Tabla de pasos**"
      ]
    },
    {
      "cell_type": "markdown",
      "metadata": {
        "id": "KIz9OJtNuWWl"
      },
      "source": [
        " Procesador | Funciòn | Detalle\n",
        "------------|---------|----------\n",
        "CPU      |  @param                | Lectura del tamaño de las matrices en Colab.\n",
        "CPU      |  import                | Importa los módulos para funcionar.\n",
        "CPU      |  numpy.random.randn( (n,n ) | Inicializa los Matrices.\n",
        "**GPU**  |  cuda.mem_alloc()      | Reserva la memoria en GPU.\n",
        "**GPU**  |  cuda.memcpy_htod()    | Copia las memorias desde el CPU al GPU.\n",
        "CPU      |  SourceModule()        | Define el código del kernel \n",
        "CPU      |  module.get_function() | Genera la función del kernel GPU\n",
        "CPU      |  dim_tx/dim_bx         | Calcula las dimensiones.\n",
        "**GPU**  |  kernel()              | Ejecuta el kernel en GPU\n",
        "CPU      |  cuda.memcpy_dtoh( )   | Copia el resultado desde GPU memoria matrizr_gpu a CPU memoria matriz_r.\n",
        "CPU      |  print()               | Informo los resultados.\n"
      ]
    },
    {
      "cell_type": "markdown",
      "metadata": {
        "id": "uo5kasSpuYdf"
      },
      "source": [
        "#**5 Conclusion**"
      ]
    },
    {
      "cell_type": "markdown",
      "metadata": {
        "id": "mzojGZyBv-pl"
      },
      "source": [
        "Se puede observar que en el producto de matrices en la GPU, debido a que un único thread se utiliza para calcular el valor de MR(i,j), la complejidad resultante[4] es O(N) que acomparacion del producto en el CPU [5] resulta ser mucho mas óptimo y por lo tanto mas rápido.\n"
      ]
    },
    {
      "cell_type": "markdown",
      "metadata": {
        "id": "ijf9m44xudLi"
      },
      "source": [
        "#**6 Bibliografia**"
      ]
    },
    {
      "cell_type": "markdown",
      "metadata": {
        "id": "19Wiu4eS_0Ki"
      },
      "source": [
        "[1] Multiplicacion de Matrices: [WEB](https://es.wikipedia.org/wiki/Multiplicaci%C3%B3n_de_matrices)\n",
        "\n",
        "[2] PyCUDA: [WEB](https://documen.tician.de/pycuda/index.html)\n",
        "\n",
        "[3] Warps, Blocks, and Synchronization: [PDF](https://www.math.wsu.edu/math/kcooper/CUDA/13CUDAblock.pdf)\n",
        "\n",
        "[4] Complejidad Computacional:[PDF](https://www.frlp.utn.edu.ar/materias/algoritmos/GUIACOMPLEJIDADDEALGORITMOS.pdf)\n",
        "\n",
        "[5] Ejercicio Secuencial: [GITHUB](https://github.com/BelMerida/Merida-SOA/blob/master/HPC/EJERCICIO%202/Merida_Belen_Ejercicio_2_Secuencial.ipynb)"
      ]
    }
  ]
}