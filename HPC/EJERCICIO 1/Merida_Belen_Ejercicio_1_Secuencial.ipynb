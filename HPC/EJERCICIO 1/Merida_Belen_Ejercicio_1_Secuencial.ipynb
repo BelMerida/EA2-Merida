{
  "nbformat": 4,
  "nbformat_minor": 0,
  "metadata": {
    "colab": {
      "name": "Merida_Belen_Ejercicio_1-Secuencial.ipynb",
      "provenance": [],
      "collapsed_sections": [
        "QV2XNaf-2UuH",
        "wg8yYW05rPep"
      ]
    },
    "kernelspec": {
      "name": "python3",
      "display_name": "Python 3"
    }
  },
  "cells": [
    {
      "cell_type": "markdown",
      "metadata": {
        "id": "QV2XNaf-2UuH"
      },
      "source": [
        "# **1 Introduccion** \n",
        "En el siguiente cuaderno se realiza el codigo para invertir un vector[1], en forma secuencial, utilizando el procesador CPU.Es decir:\n",
        "<center>Dado A=(a1,a2,a3,a4,a5), el resultado sea: A`=(a5,a4,a3,a2,a1)\n",
        "\n",
        " Para el cual se pide por parametro la cantidad de elementos para vector a invertir. "
      ]
    },
    {
      "cell_type": "markdown",
      "metadata": {
        "id": "wg8yYW05rPep"
      },
      "source": [
        "# **2 Armado del ambiente**\n",
        "Dado que el codigo es muy simple, no requiere un armado del ambiente previo."
      ]
    },
    {
      "cell_type": "markdown",
      "metadata": {
        "id": "aDNsPj96rUnW"
      },
      "source": [
        "# **3 Desarrollo**"
      ]
    },
    {
      "cell_type": "code",
      "metadata": {
        "id": "TgMWb0qjSE7e",
        "colab": {
          "base_uri": "https://localhost:8080/"
        },
        "outputId": "d56d0089-eb2f-4922-aad2-750462520f08"
      },
      "source": [
        "# --------------------------------------------\n",
        "#@title 3.1 Parámetros de ejecución { vertical-output: true }\n",
        "\n",
        "cant =   5#@param {type: \"number\"}\n",
        "\n",
        "# --------------------------------------------\n",
        "\n",
        "from datetime import datetime\n",
        "\n",
        "tiempo_total = datetime.now()\n",
        "\n",
        "import numpy\n",
        "\n",
        "try:\n",
        "\n",
        "  tiempo_en_ms = lambda dt:(dt.days * 24 * 60 * 60 + dt.seconds) * 1000 + dt.microseconds / 1000.0\n",
        "\n",
        "  # CPU - Defino la memoria del vectoren cpu.\n",
        "  vec = numpy.random.randn( cant )\n",
        "  vec = vec.astype( numpy.int32() )\n",
        "\n",
        "  vec_i = numpy.random.randn(cant)\n",
        "  vec_i = vec_i.astype(numpy.int32())\n",
        "\n",
        "  #---------------------------------------------\n",
        "  #CPU realizo el reordenamiento\n",
        "\n",
        "  tiempo_bucle = datetime.now()\n",
        "  print(\"vector\", vec)\n",
        "  for i in range(0,cant):\n",
        "    vec_i[i] = vec[cant-1-i]\n",
        "\n",
        "  tiempo_bucle = datetime.now() - tiempo_bucle\n",
        "  # ------------------------------------------\n",
        "  print(\"vector invertido\", vec_i)\n",
        "\n",
        "  tiempo_total = datetime.now() - tiempo_total\n",
        "\n",
        "  print(\"Tiempo Total: \", tiempo_en_ms( tiempo_total ), \"[ms]\" )\n",
        "  print(\"Tiempo bucle: \", tiempo_en_ms( tiempo_bucle ), \"[ms]\" )\n",
        "\n",
        "except:\n",
        "  print(\"Error en la cantidad de elementos, debe ingresar un numero positivo\")\n",
        "  exit()"
      ],
      "execution_count": null,
      "outputs": [
        {
          "output_type": "stream",
          "text": [
            "vector [-2  1  1  0  0]\n",
            "vector invertido [ 0  0  1  1 -2]\n",
            "Tiempo Total:  0.729 [ms]\n",
            "Tiempo bucle:  0.325 [ms]\n"
          ],
          "name": "stdout"
        }
      ]
    },
    {
      "cell_type": "markdown",
      "metadata": {
        "id": "gvML_NVWiHFZ"
      },
      "source": [
        "# **4 Tabla de pasos**\n",
        "Tabla de pasos de la ejecución del programa:\n",
        "\n",
        " Procesador | Función | Detalle\n",
        "------------|---------|----------\n",
        "CPU      |  @param                | Lectura del tamaño del vector.\n",
        "CPU      |  import                | Importa los módulos para funcionar.\n",
        "CPU      |  datetime.now()        | Toma el tiempo inicial.\n",
        "CPU      |  numpy.random.randn( cant ) | Inicializa el vector.\n",
        "CPU      |  for...                | Realiza el reordenamiento del vector. \n",
        "CPU      |  datetime.now()        | Toma el tiempo final.\n",
        "CPU      |  print()               | Informa los resultados.\n"
      ]
    },
    {
      "cell_type": "markdown",
      "metadata": {
        "id": "xAFmksBsj-at"
      },
      "source": [
        "#**5 Conclusion**\n",
        "Se puede observar que la complejidad computacional[2] obtenida para el codigo es de O(n), lo que quiere decir que es lineal, con numeros pequeños no habria problema, pero cuando vamos agrandando el vector al iterar vemos un mayor costo en cuanto a procesamiento. Por lo tanto, el costo de procesar es linealmente al numero de elementos del vector."
      ]
    },
    {
      "cell_type": "markdown",
      "metadata": {
        "id": "RbwC7H83kKs2"
      },
      "source": [
        "# **6 Bibliografia**\n",
        "\n",
        "[1] Invertir un vector: [WEB](https://parzibyte.me/blog/2019/07/18/invertir-arreglo-java/)\n",
        "\n",
        "[2]Complejidad Computacional: [PDF](https://www.frlp.utn.edu.ar/materias/algoritmos/GUIACOMPLEJIDADDEALGORITMOS.pdf)"
      ]
    }
  ]
}